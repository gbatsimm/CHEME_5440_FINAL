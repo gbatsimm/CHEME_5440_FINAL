{
 "cells": [
  {
   "cell_type": "code",
   "execution_count": null,
   "metadata": {},
   "outputs": [],
   "source": [
    "#all my fave imports in case I need them later\n",
    "import numpy as np\n",
    "from scipy.optimize import *\n",
    "from scipy.integrate import *\n",
    "import matplotlib.pyplot as plt\n",
    "import math\n",
    "import warnings\n",
    "warnings.filterwarnings('ignore') #living dangerously"
   ]
  },
  {
   "cell_type": "markdown",
   "metadata": {},
   "source": [
    "### Problem 2A.)\n",
    "\n",
    "Starting from the general case, accumulation=generation-consumption+convective mass transfer.\n",
    "\n",
    "Using elements from class notes (`problem2_referenceNotes.pdf`) and the Knauer model, \n",
    "\n",
    "Accumulation=0\n",
    "\n",
    "Generation= $k_r R_s + q$   \n",
    "\n",
    "Consumption = $k_f R_s L_c(z)$\n",
    "\n",
    "Convective Mass Transfer = $\\frac{1}{n} k_m(z) [ L_b-L_c(z)]$ (where the expression given in the problem is divided by $n_c$ to make the units work)\n",
    "\n",
    "Algebraically rearainging the expression occurs as follows:\n",
    "\n",
    "$0=k_r R_s^* + q - k_f R_s L_c(z) + \\frac{1}{n_c} k_m(z) [ L_b-L_c(z)] $\n",
    "\n",
    "$[k_f R_s + \\frac{k_m(z)}{n_c}] L_c(z) = k_r R_s^* + q +\\frac{k_m(z) L_b}{n_c}$\n",
    "\n",
    "$L_c(z) = \\frac{k_r R_s^* + q +\\frac{k_m(z) L_b}{n_c}}{k_f R_s + \\frac{k_m(z)}{n_c}}$"
   ]
  },
  {
   "cell_type": "markdown",
   "metadata": {},
   "source": [
    "### Problem 2B.)\n",
    "\n",
    "Given $L_c(z) = \\frac{k_r R_s^* + q +\\frac{k_m(z) L_b}{n_c}}{k_f R_s + \\frac{k_m(z)}{n_c}}$ as found in part A, we examine two limiting cases.  \n",
    "\n",
    "First, in the case $k_m<<1$, we see that the expression becomes simply:\n",
    "\n",
    "$L_c(z) = \\frac{k_r R_s^* + q}{k_f R_s }$\n",
    "\n",
    "This is to say that when the mass transfer coefficient, $k_m$, is very small, there a little to no effects of the bulk concentration.  Essentially, the convective term is disregarded, and the concentration is solely depenedent on the binding and 'unbinding' or the secretion rate.  \n",
    "\n",
    "Alternatively in the $k_m>>1$ case, the expression becomes:\n",
    "\n",
    "$L_c(z) = \\frac{\\frac{k_m(z) L_b}{n_c}}{\\frac{k_m(z)}{n_c}}=L_b$\n",
    "\n",
    "In this case, the concentration is solely based off of the bulk concentration as convective mass transfer is so fast that it outweighs any affect of binding or secretion."
   ]
  },
  {
   "cell_type": "markdown",
   "metadata": {},
   "source": [
    "### Problem 2C.)\n",
    "\n",
    "Starting with the expression from a, but with $L_b=0$, \n",
    "\n",
    "$L_c(z) = \\frac{k_r R_s^* + q}{k_f R_s + \\frac{k_m(z)}{n_c}}$\n",
    "\n",
    "and the following expression $R_s^*=\\frac{K_{ss}L_c}{1+K_{ss}L_c}(\\frac{V_s}{k_e^*})$ (from `problem2_referenceNotes.pdf` or Knauer et all (1984)).\n",
    "\n",
    "In the limit where $K_{ss}L<<1$, the expression simplifies to  $R_s^*=K_{ss}L_c(\\frac{V_s}{k_e^*})$. \n",
    "\n",
    "Next, the value for $R_s$ is substituted for using a mass balance from the aforementioned notes, at steady state:\n",
    "\n",
    "$0=k_f L_c R_s - k_r R_s^* - k_e^* R_s^*$\n",
    "\n",
    "$R_s = \\frac{(k_r + k_e^*)R_s^*}{k_f L_c}$\n",
    "\n",
    "Substituting this into our previous equation for $L_c(z)$ we obtain:\n",
    "\n",
    "$L_c(z) = \\frac{k_r R_s^* + q}{k_f \\frac{(k_r + k_e^*)R_s^*}{k_f L_c} + \\frac{k_m(z)}{n_c}}$\n",
    "\n",
    "Isolating this expression for $L_c$ produces the following:\n",
    "\n",
    "$L_c(z)[\\frac{(k_r + k_e^*)R_s^*}{L_c} + \\frac{k_m(z)}{n_c}] = k_r R_s^* + q$\n",
    "\n",
    "$(k_r + k_e^*)R_s^* + L_c \\frac{k_m(z)}{n_c} = k_r R_s^* + q$\n",
    "\n",
    "$L_c \\frac{k_m(z)}{n_c} = q - k_e^* R_s^*$\n",
    "\n",
    "$L_c = [q - k_e^* R_s^*]\\frac{n_c}{k_m(z)}$"
   ]
  },
  {
   "cell_type": "markdown",
   "metadata": {},
   "source": [
    "Next, substituting this expression for $L_c$ into $R_s^*$ gives:\n",
    "\n",
    "$R_s^*=K_{ss}[q - k_e^* R_s^*]\\frac{n_c}{k_m(z)}(\\frac{V_s}{k_e^*})$\n",
    "\n",
    "Now, isolating $R_s^*$, \n",
    "\n",
    "$R_s^*[1+k_e^* \\frac{n_c}{k_m(z)}(\\frac{V_s}{k_e^*}) K_{ss}]=K_{ss}q\\frac{n_c}{k_m(z)}(\\frac{V_s}{k_e^*})$\n",
    "\n",
    "$R_s^*=\\frac{K_{ss}q\\frac{n_c}{k_m(z)}(\\frac{V_s}{k_e^*})}{1+k_e^* K_{ss}\\frac{n_c}{k_m(z)}(\\frac{V_s}{k_e^*}) }$\n",
    "\n",
    "Given that, from the `problem2_referenceNotes.pdf`, $R_i^*=\\frac{k_c^*}{k_{deg}}R_s^*$, and that $R_{total}^*=R_s^* +R_i^*$, the following expression is constructed for $R_{total}^*$:\n",
    "\n",
    "$R_i^*=\\frac{K_{ss}q\\frac{n_c}{k_m(z)}(\\frac{V_s}{k_e^*})}{1+ K_{ss}\\frac{n_c}{k_m(z)}(V_s) }(\\frac{k_e^*}{k_{deg}})$\n",
    "\n",
    "$R_{total}^* = [\\frac{1}{k_e^*}+\\frac{1}{k_{deg}}]\\frac{K_{ss}qV_s\\frac{n_c}{k_m(z)}}{1+K_{ss}V_s\\frac{n_c}{k_m(z)}}$\n",
    "\n",
    "Where $K_{ss}=\\frac{k_e^* k_f}{k_e(k_r+k_e^*)}$"
   ]
  },
  {
   "cell_type": "markdown",
   "metadata": {},
   "source": [
    "### Problem 2D.)\n",
    "\n",
    "To plot $R_{total}^*$, the Sherwood number is substituted into the equation for $k_m(z)$.  \n",
    "\n",
    "$R_{total}^* = [\\frac{1}{k_e^*}+\\frac{1}{k_{deg}}]\\frac{K_{ss}qV_s\\frac{n_c}{k_m(z)}}{1+K_{ss}V_s\\frac{n_c}{k_m(z)}}$\n",
    "\n",
    "$R_{total}^* = [\\frac{1}{k_e^*}+\\frac{1}{k_{deg}}]\\frac{K_{ss}qV_s n_c}{k_m(z)+K_{ss}V_s n_c}$\n",
    "\n",
    "$k_m(z)=\\frac{\\dot \\gamma^{1/3}D_L^{2/3}}{z^{1/3}}$"
   ]
  },
  {
   "cell_type": "code",
   "execution_count": 2,
   "metadata": {},
   "outputs": [
    {
     "data": {
      "image/png": "[encoded data removed]",
      "text/plain": [
       "<Figure size 432x288 with 1 Axes>"
      ]
     },
     "metadata": {
      "needs_background": "light"
     },
     "output_type": "display_data"
    }
   ],
   "source": [
    "#constants\n",
    "ke=0.001; kestar=0.005; kf=5.14E-21; kr=0.025; kdeg=0.0008;Vs=10;\n",
    "q=1000; nc=3.0E8; gamma=100; Dl=1.0E-10;\n",
    "\n",
    "Kss=kestar*kf/(ke*(kr+kestar))\n",
    "\n",
    "z=np.linspace(0.001,1,1000)\n",
    "km=np.power(gamma,1/3)*np.power(Dl,2/3)*np.power(z,1/3)\n",
    "RtotalStar=(1/kestar + 1/kdeg)*Kss*q*Vs/(km+(Kss*Vs*nc))\n",
    "\n",
    "RtotalStarMax=np.amax(RtotalStar)  #maximum value of RtotalStar\n",
    "RtotalStarNorm=RtotalStar/RtotalStarMax  #normalized\n",
    "\n",
    "plt.plot(z,RtotalStarNorm);\n",
    "plt.ylabel('Normalized Mitotic Activity');\n",
    "plt.xlabel('z');"
   ]
  }
 ],
 "metadata": {
  "kernelspec": {
   "display_name": "Python 3",
   "language": "python",
   "name": "python3"
  },
  "language_info": {
   "codemirror_mode": {
    "name": "ipython",
    "version": 3
   },
   "file_extension": ".py",
   "mimetype": "text/x-python",
   "name": "python",
   "nbconvert_exporter": "python",
   "pygments_lexer": "ipython3",
   "version": "3.8.1"
  }
 },
 "nbformat": 4,
 "nbformat_minor": 4
}
